{
 "cells": [
  {
   "cell_type": "code",
   "execution_count": null,
   "metadata": {},
   "outputs": [],
   "source": [
    "import praw \n",
    "import json\n",
    "import requests\n",
    "\n",
    "credentials = 'client_secrets.json'\n",
    "\n",
    "with open(credentials) as f:\n",
    "    creds = json.load(f)\n",
    "\n",
    "reddit = praw.Reddit(client_id=creds['client_id'],\n",
    "                     client_secret=creds['client_secret'],\n",
    "                     user_agent=creds['user_agent'],\n",
    "                     redirect_uri=creds['redirect_uri'],\n",
    "                     refresh_token=creds['refresh_token'])\n",
    "\n",
    "subr = \"pythonsandlot\"              # Choose your subreddit\n",
    "subreddit = reddit.subreddit(subr)  # Initialize the subreddit to a variable\n",
    "\n",
    "title = \"hi test\"\n",
    "\n",
    "selftext = \"\"\"\n",
    "test\n",
    "\"\"\"\n",
    "\n",
    "subreddit.submit(title,selftext=selftext)\n"
   ]
  }
 ],
 "metadata": {
  "language_info": {
   "name": "python"
  },
  "orig_nbformat": 4
 },
 "nbformat": 4,
 "nbformat_minor": 2
}
